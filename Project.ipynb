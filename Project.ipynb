{
  "nbformat": 4,
  "nbformat_minor": 0,
  "metadata": {
    "colab": {
      "provenance": []
    },
    "kernelspec": {
      "name": "python3",
      "display_name": "Python 3"
    },
    "language_info": {
      "name": "python"
    }
  },
  "cells": [
    {
      "cell_type": "code",
      "execution_count": 1,
      "metadata": {
        "id": "8hNI1l--B5df"
      },
      "outputs": [],
      "source": [
        "import numpy as np\n",
        "import tensorflow as tf\n",
        "from sklearn.datasets import fetch_covtype\n",
        "from sklearn.preprocessing import StandardScaler\n",
        "from sklearn.model_selection import train_test_split\n",
        "from tensorflow import keras\n",
        "from sklearn.metrics import confusion_matrix\n",
        "import seaborn as sns\n",
        "import matplotlib.pyplot as plt\n",
        "from sklearn.metrics import roc_curve, auc, r2_score, mean_squared_error\n",
        "import pandas as pd"
      ]
    },
    {
      "cell_type": "code",
      "source": [
        "# Get data\n",
        "data = fetch_covtype()\n",
        "X = data.data\n",
        "y = data.target\n",
        "y = y - 1"
      ],
      "metadata": {
        "id": "kvRHOm3WC0Cz"
      },
      "execution_count": 2,
      "outputs": []
    },
    {
      "cell_type": "code",
      "source": [
        "# Standardize\n",
        "scaler = StandardScaler()\n",
        "X_norm = scaler.fit_transform(X)\n",
        "\n",
        "# Split\n",
        "X_train, X_test, y_train, y_test = train_test_split(X_norm, y, test_size=0.2, random_state=42)\n",
        "input_dimension = X_train.shape[1]\n",
        "targets = 7"
      ],
      "metadata": {
        "id": "SWoLd35KC6ri"
      },
      "execution_count": 3,
      "outputs": []
    },
    {
      "cell_type": "code",
      "source": [
        "# Model\n",
        "model = keras.Sequential([\n",
        "    keras.layers.InputLayer(input_shape=(input_dimension,)),\n",
        "    keras.layers.Dense(128, activation='relu'),\n",
        "    keras.layers.Dense(128, activation='relu'),\n",
        "    keras.layers.Dense(64, activation='relu'),\n",
        "    keras.layers.Dense(64, activation='relu'),\n",
        "    keras.layers.Dense(64, activation='relu'),\n",
        "    keras.layers.Dense(targets, activation='softmax')\n",
        "])\n",
        "model.compile(optimizer='adam', loss='sparse_categorical_crossentropy', metrics=['accuracy'])\n",
        "model.summary()"
      ],
      "metadata": {
        "colab": {
          "base_uri": "https://localhost:8080/"
        },
        "id": "xMzW--CDM3uE",
        "outputId": "1d27b955-fa18-419a-fdf2-e6da912fa53a"
      },
      "execution_count": 4,
      "outputs": [
        {
          "output_type": "stream",
          "name": "stdout",
          "text": [
            "Model: \"sequential\"\n",
            "_________________________________________________________________\n",
            " Layer (type)                Output Shape              Param #   \n",
            "=================================================================\n",
            " dense (Dense)               (None, 128)               7040      \n",
            "                                                                 \n",
            " dense_1 (Dense)             (None, 128)               16512     \n",
            "                                                                 \n",
            " dense_2 (Dense)             (None, 64)                8256      \n",
            "                                                                 \n",
            " dense_3 (Dense)             (None, 64)                4160      \n",
            "                                                                 \n",
            " dense_4 (Dense)             (None, 64)                4160      \n",
            "                                                                 \n",
            " dense_5 (Dense)             (None, 7)                 455       \n",
            "                                                                 \n",
            "=================================================================\n",
            "Total params: 40583 (158.53 KB)\n",
            "Trainable params: 40583 (158.53 KB)\n",
            "Non-trainable params: 0 (0.00 Byte)\n",
            "_________________________________________________________________\n"
          ]
        }
      ]
    },
    {
      "cell_type": "code",
      "source": [
        "# Train\n",
        "training_history = model.fit(X_train, y_train, epochs=11, batch_size=32, validation_split=0.2)"
      ],
      "metadata": {
        "colab": {
          "base_uri": "https://localhost:8080/"
        },
        "id": "EeOrgqBXM84J",
        "outputId": "819b9ea1-3111-40ea-f5e1-b2ac04d15d66"
      },
      "execution_count": 24,
      "outputs": [
        {
          "output_type": "stream",
          "name": "stdout",
          "text": [
            "Epoch 1/11\n",
            "11621/11621 [==============================] - 41s 4ms/step - loss: 0.1647 - accuracy: 0.9454 - val_loss: 0.2173 - val_accuracy: 0.9410\n",
            "Epoch 2/11\n",
            "11621/11621 [==============================] - 39s 3ms/step - loss: 0.1437 - accuracy: 0.9466 - val_loss: 0.1928 - val_accuracy: 0.9368\n",
            "Epoch 3/11\n",
            "11621/11621 [==============================] - 40s 3ms/step - loss: 0.1518 - accuracy: 0.9461 - val_loss: 0.1916 - val_accuracy: 0.9381\n",
            "Epoch 4/11\n",
            "11621/11621 [==============================] - 41s 3ms/step - loss: 0.1459 - accuracy: 0.9471 - val_loss: 0.1964 - val_accuracy: 0.9338\n",
            "Epoch 5/11\n",
            "11621/11621 [==============================] - 40s 3ms/step - loss: 0.1549 - accuracy: 0.9462 - val_loss: 0.1842 - val_accuracy: 0.9397\n",
            "Epoch 6/11\n",
            "11621/11621 [==============================] - 39s 3ms/step - loss: 0.1687 - accuracy: 0.9457 - val_loss: 0.1907 - val_accuracy: 0.9366\n",
            "Epoch 7/11\n",
            "11621/11621 [==============================] - 42s 4ms/step - loss: 0.1450 - accuracy: 0.9467 - val_loss: 0.2000 - val_accuracy: 0.9386\n",
            "Epoch 8/11\n",
            "11621/11621 [==============================] - 39s 3ms/step - loss: 0.1485 - accuracy: 0.9462 - val_loss: 0.2010 - val_accuracy: 0.9414\n",
            "Epoch 9/11\n",
            "11621/11621 [==============================] - 40s 3ms/step - loss: 0.1562 - accuracy: 0.9462 - val_loss: 0.2026 - val_accuracy: 0.9386\n",
            "Epoch 10/11\n",
            "11621/11621 [==============================] - 40s 3ms/step - loss: 0.1894 - accuracy: 0.9463 - val_loss: 0.1851 - val_accuracy: 0.9380\n",
            "Epoch 11/11\n",
            "11621/11621 [==============================] - 38s 3ms/step - loss: 0.1512 - accuracy: 0.9455 - val_loss: 0.2096 - val_accuracy: 0.9353\n"
          ]
        }
      ]
    },
    {
      "cell_type": "code",
      "source": [
        "# Evaluate - Confusion Matrix and Accuracy\n",
        "test_loss, test_acc = model.evaluate(X_test, y_test)\n",
        "print(f\"Test Accuracy: {test_acc:.3f}\")\n",
        "y_pred = model.predict(X_test)\n",
        "y_pred_classes = np.argmax(y_pred, axis=1)\n",
        "cm = confusion_matrix(y_test, y_pred_classes)\n",
        "sns.heatmap(cm, annot=True, fmt='d')\n",
        "plt.xlabel('Predicted')\n",
        "plt.ylabel('True')\n",
        "plt.show()"
      ],
      "metadata": {
        "colab": {
          "base_uri": "https://localhost:8080/",
          "height": 503
        },
        "id": "qAgg2SFkM_e0",
        "outputId": "4bd9db0e-26fc-4041-c338-0af6f9f5e327"
      },
      "execution_count": 25,
      "outputs": [
        {
          "output_type": "stream",
          "name": "stdout",
          "text": [
            "3632/3632 [==============================] - 7s 2ms/step - loss: 0.1912 - accuracy: 0.9339\n",
            "Test Accuracy: 0.934\n",
            "3632/3632 [==============================] - 7s 2ms/step\n"
          ]
        },
        {
          "output_type": "display_data",
          "data": {
            "text/plain": [
              "<Figure size 640x480 with 2 Axes>"
            ],
            "image/png": "[encoded data removed]"
          },
          "metadata": {}
        }
      ]
    },
    {
      "cell_type": "code",
      "source": [
        "# Evaluate - ROC/AUC Curves\n",
        "falsePos = dict()\n",
        "truePos = dict()\n",
        "roc_auc = dict()\n",
        "for i in range(targets):\n",
        "    falsePos[i], truePos[i], _ = roc_curve(y_test == i, y_pred[:, i])\n",
        "    roc_auc[i] = auc(falsePos[i], truePos[i])\n",
        "\n",
        "# Print ROC/AUC value for each respective class\n",
        "for i in range(targets):\n",
        "    print(f\"Class {i+1} - AUC: {roc_auc[i]:.3f}\")"
      ],
      "metadata": {
        "colab": {
          "base_uri": "https://localhost:8080/"
        },
        "id": "LRb8ppyR9Z7-",
        "outputId": "4e3c6286-6efd-4d7b-dc45-fd3da0a5d3d9"
      },
      "execution_count": 15,
      "outputs": [
        {
          "output_type": "stream",
          "name": "stdout",
          "text": [
            "Class 1 - AUC: 0.991\n",
            "Class 2 - AUC: 0.989\n",
            "Class 3 - AUC: 0.998\n",
            "Class 4 - AUC: 0.997\n",
            "Class 5 - AUC: 0.995\n",
            "Class 6 - AUC: 0.997\n",
            "Class 7 - AUC: 0.999\n"
          ]
        }
      ]
    },
    {
      "cell_type": "code",
      "source": [
        "# Create a Dummy Classifier\n",
        "baseline_acc = max(np.bincount(y_test)) / len(y_test)\n",
        "\n",
        "# Print the baseline accuracy\n",
        "print(f\"Baseline Accuracy: {baseline_acc:.3f}\")"
      ],
      "metadata": {
        "colab": {
          "base_uri": "https://localhost:8080/"
        },
        "id": "pJfzlZ_t9jhf",
        "outputId": "8b8bc88c-c218-437c-f09c-f3aa498655b2"
      },
      "execution_count": null,
      "outputs": [
        {
          "output_type": "stream",
          "name": "stdout",
          "text": [
            "Baseline Accuracy: 0.486\n"
          ]
        }
      ]
    }
  ]
}